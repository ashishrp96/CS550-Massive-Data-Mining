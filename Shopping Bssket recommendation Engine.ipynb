{
 "cells": [
  {
   "cell_type": "code",
   "execution_count": 4,
   "metadata": {},
   "outputs": [],
   "source": [
    "import itertools"
   ]
  },
  {
   "cell_type": "code",
   "execution_count": 5,
   "metadata": {},
   "outputs": [],
   "source": [
    "text_lines = sc.textFile(\"data/browsing.txt\")"
   ]
  },
  {
   "cell_type": "code",
   "execution_count": 6,
   "metadata": {},
   "outputs": [
    {
     "data": {
      "text/plain": [
       "647"
      ]
     },
     "execution_count": 6,
     "metadata": {},
     "output_type": "execute_result"
    }
   ],
   "source": [
    "text_list = text_lines.map(lambda line:line.split())\n",
    "item_counts = text_lines.flatMap(lambda line: line.split()).map(lambda x: (x,1)).reduceByKey(lambda a, b: a + b)\n",
    "freq_items_counts = item_counts.filter(lambda x: x[1]>=100).sortBy(lambda x: x[0])\n",
    "freq_items_list = freq_items_counts.map(lambda x: x[0]).collect()\n",
    "no_of_freq_items=freq_items_counts.map(lambda x: x[0]).count()\n",
    "no_of_freq_items"
   ]
  },
  {
   "cell_type": "code",
   "execution_count": 7,
   "metadata": {},
   "outputs": [],
   "source": [
    "def pair_func(l):\n",
    "    rec=[]\n",
    "    pairs=[]\n",
    "    for i in l:\n",
    "        if i in freq_items_list:\n",
    "            rec.append(i)\n",
    "    rec.sort()\n",
    "    for pair in itertools.combinations(rec,2):\n",
    "        pairs.append((pair,1))\n",
    "    return(pairs)\n",
    "def filter_func(l):\n",
    "    rec=[]\n",
    "    trips=[]\n",
    "    for i in l:\n",
    "        if i in freq_items_2:\n",
    "            rec.append(i)\n",
    "    rec.sort()\n",
    "    for trip in itertools.combinations(rec,3):\n",
    "        trips.append(((trip),1))\n",
    "    return(trips)"
   ]
  },
  {
   "cell_type": "code",
   "execution_count": 9,
   "metadata": {},
   "outputs": [
    {
     "data": {
      "text/plain": [
       "[(('DAI11223', 'DAI13194'), 1),\n",
       " (('DAI11223', 'DAI13266'), 1),\n",
       " (('DAI11223', 'DAI13902'), 2),\n",
       " (('DAI11223', 'DAI20585'), 1),\n",
       " (('DAI11223', 'DAI22177'), 17),\n",
       " (('DAI11223', 'DAI22240'), 7),\n",
       " (('DAI11223', 'DAI22534'), 1),\n",
       " (('DAI11223', 'DAI22896'), 7),\n",
       " (('DAI11223', 'DAI25796'), 1),\n",
       " (('DAI11223', 'DAI26369'), 3)]"
      ]
     },
     "execution_count": 9,
     "metadata": {},
     "output_type": "execute_result"
    }
   ],
   "source": [
    "from operator import add\n",
    "In_Num_pairs = text_list.flatMap(lambda x: pair_func(x)).reduceByKey(add)\n",
    "Num_pairs=In_Num_pairs.sortBy( lambda x: x[0])\n",
    "Num_pairs.take(10)"
   ]
  },
  {
   "cell_type": "code",
   "execution_count": 10,
   "metadata": {},
   "outputs": [
    {
     "data": {
      "text/plain": [
       "[(('DAI16732', 'FRO78087'), 106),\n",
       " (('DAI18527', 'SNA44451'), 102),\n",
       " (('DAI22177', 'DAI31081'), 127),\n",
       " (('DAI22177', 'DAI62779'), 382),\n",
       " (('DAI22177', 'DAI63921'), 136),\n",
       " (('DAI22177', 'DAI75645'), 123),\n",
       " (('DAI22177', 'DAI83733'), 126),\n",
       " (('DAI22177', 'DAI85309'), 172),\n",
       " (('DAI22177', 'ELE17451'), 203),\n",
       " (('DAI22177', 'ELE26917'), 134)]"
      ]
     },
     "execution_count": 10,
     "metadata": {},
     "output_type": "execute_result"
    }
   ],
   "source": [
    "freq_Num_pairs = Num_pairs.filter(lambda x: x[1]>=100)\n",
    "freq_Num_pairs.take(10)\n",
    "freq_Num_pairs_list = freq_Num_pairs.collect()\n",
    "freq_Num_pairs_list[:10]"
   ]
  },
  {
   "cell_type": "code",
   "execution_count": 11,
   "metadata": {},
   "outputs": [
    {
     "data": {
      "text/plain": [
       "[('DAI16732', 'FRO78087'),\n",
       " ('DAI18527', 'SNA44451'),\n",
       " ('DAI22177', 'DAI31081'),\n",
       " ('DAI22177', 'DAI62779'),\n",
       " ('DAI22177', 'DAI63921'),\n",
       " ('DAI22177', 'DAI75645'),\n",
       " ('DAI22177', 'DAI83733'),\n",
       " ('DAI22177', 'DAI85309'),\n",
       " ('DAI22177', 'ELE17451'),\n",
       " ('DAI22177', 'ELE26917')]"
      ]
     },
     "execution_count": 11,
     "metadata": {},
     "output_type": "execute_result"
    }
   ],
   "source": [
    "freq_pairs = freq_Num_pairs.map(lambda x: x[0])\n",
    "freq_pairs.take(10)"
   ]
  },
  {
   "cell_type": "code",
   "execution_count": 12,
   "metadata": {},
   "outputs": [],
   "source": [
    "clist=[]\n",
    "for i in freq_Num_pairs_list:\n",
    "    conf1 = i[1]/(freq_items_counts.filter(lambda x: x[0]==i[0][0]).collect())[0][1]\n",
    "    conf2 = i[1]/(freq_items_counts.filter(lambda x: x[0]==i[0][1]).collect())[0][1]\n",
    "    clist.append(((i[0][0],i[0][1]),conf1))\n",
    "    clist.append(((i[0][1],i[0][0]),conf2))"
   ]
  },
  {
   "cell_type": "code",
   "execution_count": 13,
   "metadata": {},
   "outputs": [
    {
     "data": {
      "text/plain": [
       "[(('DAI93865', 'FRO40251'), 1.0),\n",
       " (('GRO85051', 'FRO40251'), 0.999176276771005),\n",
       " (('GRO38636', 'FRO40251'), 0.9906542056074766),\n",
       " (('ELE12951', 'FRO40251'), 0.9905660377358491),\n",
       " (('DAI88079', 'FRO40251'), 0.9867256637168141)]"
      ]
     },
     "execution_count": 13,
     "metadata": {},
     "output_type": "execute_result"
    }
   ],
   "source": [
    "clist.sort(key=lambda x: -x[1])\n",
    "clist[:5]"
   ]
  },
  {
   "cell_type": "code",
   "execution_count": 14,
   "metadata": {},
   "outputs": [
    {
     "data": {
      "text/plain": [
       "['DAI16732',\n",
       " 'FRO78087',\n",
       " 'DAI18527',\n",
       " 'SNA44451',\n",
       " 'DAI22177',\n",
       " 'DAI31081',\n",
       " 'DAI22177',\n",
       " 'DAI62779',\n",
       " 'DAI22177',\n",
       " 'DAI63921']"
      ]
     },
     "execution_count": 14,
     "metadata": {},
     "output_type": "execute_result"
    }
   ],
   "source": [
    "freq_items_2 = freq_pairs.flatMap(lambda x: x).collect()\n",
    "freq_items_2[:10]"
   ]
  },
  {
   "cell_type": "code",
   "execution_count": 15,
   "metadata": {},
   "outputs": [
    {
     "data": {
      "text/plain": [
       "[(('DAI16732', 'DAI18527', 'DAI35347'), 2),\n",
       " (('DAI16732', 'DAI18527', 'DAI59508'), 2),\n",
       " (('DAI16732', 'DAI18527', 'DAI62779'), 1),\n",
       " (('DAI16732', 'DAI18527', 'DAI63921'), 2),\n",
       " (('DAI16732', 'DAI18527', 'DAI85309'), 1),\n",
       " (('DAI16732', 'DAI18527', 'DAI95741'), 1),\n",
       " (('DAI16732', 'DAI18527', 'ELE12792'), 1),\n",
       " (('DAI16732', 'DAI18527', 'ELE12845'), 1),\n",
       " (('DAI16732', 'DAI18527', 'ELE20398'), 1),\n",
       " (('DAI16732', 'DAI18527', 'ELE21353'), 3)]"
      ]
     },
     "execution_count": 15,
     "metadata": {},
     "output_type": "execute_result"
    }
   ],
   "source": [
    "trip_num = text_list.flatMap(lambda x: filter_func(x)).reduceByKey(add).sortBy(lambda x: x[0])\n",
    "trip_num.take(10)"
   ]
  },
  {
   "cell_type": "code",
   "execution_count": 16,
   "metadata": {},
   "outputs": [
    {
     "data": {
      "text/plain": [
       "[(('DAI22896', 'DAI62779', 'GRO73461'), 101),\n",
       " (('DAI23334', 'DAI62779', 'ELE92920'), 143),\n",
       " (('DAI31081', 'DAI62779', 'ELE17451'), 103),\n",
       " (('DAI31081', 'DAI75645', 'FRO40251'), 122),\n",
       " (('DAI31081', 'ELE32164', 'GRO59710'), 112),\n",
       " (('DAI31081', 'FRO40251', 'GRO85051'), 102),\n",
       " (('DAI31081', 'FRO40251', 'SNA80324'), 103),\n",
       " (('DAI42083', 'DAI62779', 'DAI92600'), 105),\n",
       " (('DAI42083', 'DAI92600', 'ELE17451'), 117),\n",
       " (('DAI42493', 'DAI62779', 'ELE17451'), 112),\n",
       " (('DAI42493', 'DAI62779', 'ELE92920'), 112),\n",
       " (('DAI42493', 'DAI62779', 'SNA18336'), 109),\n",
       " (('DAI43223', 'DAI62779', 'ELE17451'), 227),\n",
       " (('DAI43223', 'DAI62779', 'ELE32164'), 287),\n",
       " (('DAI43223', 'DAI62779', 'GRO59710'), 205)]"
      ]
     },
     "execution_count": 16,
     "metadata": {},
     "output_type": "execute_result"
    }
   ],
   "source": [
    "freq_trips = trip_num.filter(lambda x: x[1]>=100)\n",
    "freq_trips.take(15)"
   ]
  },
  {
   "cell_type": "code",
   "execution_count": 17,
   "metadata": {},
   "outputs": [],
   "source": [
    "freq_trips_list = trip_num.filter(lambda x: x[1]>=100).collect()\n",
    "tc_pairs=[]\n",
    "for i in freq_trips_list:\n",
    "    a=set(i[0])\n",
    "    for j in (itertools.combinations(i[0],2)):\n",
    "        b=set(j)\n",
    "        c=list(a-b)\n",
    "        conf=i[1]/(freq_Num_pairs.filter(lambda x: x[0]==j)).collect()[0][1]\n",
    "        tc_pairs.append(((j,c[0]),conf))"
   ]
  },
  {
   "cell_type": "code",
   "execution_count": 18,
   "metadata": {},
   "outputs": [
    {
     "data": {
      "text/plain": [
       "[((('DAI22896', 'DAI62779'), 'GRO73461'), 0.3400673400673401),\n",
       " ((('DAI22896', 'GRO73461'), 'DAI62779'), 0.33223684210526316),\n",
       " ((('DAI62779', 'GRO73461'), 'DAI22896'), 0.08867427568042142),\n",
       " ((('DAI23334', 'DAI62779'), 'ELE92920'), 0.5238095238095238),\n",
       " ((('DAI23334', 'ELE92920'), 'DAI62779'), 1.0),\n",
       " ((('DAI62779', 'ELE92920'), 'DAI23334'), 0.1630558722919042),\n",
       " ((('DAI31081', 'DAI62779'), 'ELE17451'), 0.28296703296703296),\n",
       " ((('DAI31081', 'ELE17451'), 'DAI62779'), 0.44782608695652176),\n",
       " ((('DAI62779', 'ELE17451'), 'DAI31081'), 0.06469849246231156),\n",
       " ((('DAI31081', 'DAI75645'), 'FRO40251'), 0.5922330097087378),\n",
       " ((('DAI31081', 'FRO40251'), 'DAI75645'), 0.4357142857142857),\n",
       " ((('DAI75645', 'FRO40251'), 'DAI31081'), 0.09728867623604466),\n",
       " ((('DAI31081', 'ELE32164'), 'GRO59710'), 0.358974358974359),\n",
       " ((('DAI31081', 'GRO59710'), 'ELE32164'), 0.5989304812834224),\n",
       " ((('ELE32164', 'GRO59710'), 'DAI31081'), 0.12294182217343579)]"
      ]
     },
     "execution_count": 18,
     "metadata": {},
     "output_type": "execute_result"
    }
   ],
   "source": [
    "tc_pairs[:15]"
   ]
  },
  {
   "cell_type": "code",
   "execution_count": 19,
   "metadata": {},
   "outputs": [
    {
     "data": {
      "text/plain": [
       "[((('DAI23334', 'ELE92920'), 'DAI62779'), 1.0),\n",
       " ((('DAI31081', 'GRO85051'), 'FRO40251'), 1.0),\n",
       " ((('DAI55911', 'GRO85051'), 'FRO40251'), 1.0),\n",
       " ((('DAI62779', 'DAI88079'), 'FRO40251'), 1.0),\n",
       " ((('DAI75645', 'GRO85051'), 'FRO40251'), 1.0),\n",
       " ((('ELE17451', 'GRO85051'), 'FRO40251'), 1.0),\n",
       " ((('ELE20847', 'FRO92469'), 'FRO40251'), 1.0),\n",
       " ((('ELE20847', 'GRO85051'), 'FRO40251'), 1.0),\n",
       " ((('ELE26917', 'GRO85051'), 'FRO40251'), 1.0),\n",
       " ((('FRO53271', 'GRO85051'), 'FRO40251'), 1.0)]"
      ]
     },
     "execution_count": 19,
     "metadata": {},
     "output_type": "execute_result"
    }
   ],
   "source": [
    "tc_pairs.sort(key = lambda x: -x[1])\n",
    "tc_pairs[:10]"
   ]
  }
 ],
 "metadata": {
  "kernelspec": {
   "display_name": "* Spark 3 in Python 3.8",
   "language": "python",
   "name": "pyspark3"
  },
  "language_info": {
   "codemirror_mode": {
    "name": "ipython",
    "version": 3
   },
   "file_extension": ".py",
   "mimetype": "text/x-python",
   "name": "python",
   "nbconvert_exporter": "python",
   "pygments_lexer": "ipython3",
   "version": "3.8.2"
  }
 },
 "nbformat": 4,
 "nbformat_minor": 4
}
