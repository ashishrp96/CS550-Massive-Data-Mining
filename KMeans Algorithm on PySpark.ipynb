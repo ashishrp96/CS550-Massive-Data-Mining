{
 "cells": [
  {
   "cell_type": "code",
   "execution_count": 1,
   "metadata": {},
   "outputs": [],
   "source": [
    "import math\n",
    "import numpy\n",
    "from operator import add"
   ]
  },
  {
   "cell_type": "code",
   "execution_count": 2,
   "metadata": {},
   "outputs": [],
   "source": [
    "text = sc.textFile('kmeans/data.txt')\n",
    "\n",
    "initial_centroids = []\n",
    "with open(\"kmeans/c1.txt\",\"r\") as f:\n",
    "    for line in f:\n",
    "        initial_centroids.append(line[0:len(line) -1])"
   ]
  },
  {
   "cell_type": "code",
   "execution_count": 3,
   "metadata": {},
   "outputs": [],
   "source": [
    "def clustermap(point):\n",
    "    distance = numpy.inf\n",
    "    for centroid in centroids.value:\n",
    "        dis,point_new = calculate_dist(point.split(\" \"),centroid)\n",
    "        if dis < distance:\n",
    "            distance = dis\n",
    "            cluster_centroid = centroid\n",
    "    cost.add(distance)\n",
    "    return (tuple(cluster_centroid),tuple(point_new))"
   ]
  },
  {
   "cell_type": "code",
   "execution_count": 4,
   "metadata": {},
   "outputs": [],
   "source": [
    "def point_sum(point1,point2):\n",
    "    point = list()\n",
    "    for d1,d2 in zip(point1,point2):\n",
    "        d1 = float(d1)\n",
    "        d2 = float(d2)\n",
    "        point.append(d1 + d2)\n",
    "    \n",
    "    return tuple(point)"
   ]
  },
  {
   "cell_type": "code",
   "execution_count": 5,
   "metadata": {},
   "outputs": [],
   "source": [
    "def calculate_dist(point1,point2):\n",
    "    distance = 0\n",
    "    point = list()\n",
    "    for d1,d2 in zip(point1,point2):\n",
    "        d1 = float(d1)\n",
    "        d2 = float(d2)\n",
    "        point.append(d1)\n",
    "        distance = distance + math.pow(d1 - d2,2)\n",
    "    return distance,point"
   ]
  },
  {
   "cell_type": "code",
   "execution_count": 6,
   "metadata": {},
   "outputs": [],
   "source": [
    "num_iter = 21\n",
    "cost = sc.accumulator(0)\n",
    "costs = []\n",
    "initial_centroids[len(initial_centroids) -1] = initial_centroids[len(initial_centroids) -1] + '1'\n",
    "centroids = list()\n",
    "points_dict = []\n",
    "for point in initial_centroids:\n",
    "        point_list = point.split(' ')\n",
    "        point_tuple = tuple(point_list)\n",
    "        centroids.append(point_tuple)\n",
    "\n",
    "centroids = sc.broadcast(centroids)"
   ]
  },
  {
   "cell_type": "code",
   "execution_count": 7,
   "metadata": {},
   "outputs": [
    {
     "name": "stdout",
     "output_type": "stream",
     "text": [
      "[623660345.3064113, 509862908.2975454, 485480681.8720084, 463997011.68501294, 460969266.5729968, 460537847.9827684, 460313099.6535447, 460003523.8894081, 459570539.3177352, 459021103.3422909, 458490656.1919812, 457944232.5879751, 457558005.1986773, 457290136.35230196, 457050555.05956286, 456892235.61535585, 456703630.7370345, 456404203.01897514, 456177800.541994, 455986871.0273468]\n"
     ]
    }
   ],
   "source": [
    "for i in range(1,num_iter):\n",
    "        points = text.map(clustermap)\n",
    "        counts = points.countByKey()\n",
    "        cost = sc.accumulator(0)\n",
    "        points = points.reduceByKey(point_sum)\n",
    "        points_dict = points.collect()\n",
    "        costs.append(cost.value)\n",
    "        new_centroids = list()\n",
    "\n",
    "        for key,val in points_dict:\n",
    "\n",
    "            new_centroid = list()\n",
    "            for cordinate in val:\n",
    "                new_centroid.append(cordinate/counts[key])\n",
    "            new_centroids.append(tuple(new_centroid))\n",
    "\n",
    "        centroids = sc.broadcast(new_centroids)\n",
    "    \n",
    "print(costs)"
   ]
  },
  {
   "cell_type": "code",
   "execution_count": null,
   "metadata": {},
   "outputs": [],
   "source": []
  }
 ],
 "metadata": {
  "kernelspec": {
   "display_name": "* Spark 3 in Python 3.8",
   "language": "python",
   "name": "pyspark3"
  },
  "language_info": {
   "codemirror_mode": {
    "name": "ipython",
    "version": 3
   },
   "file_extension": ".py",
   "mimetype": "text/x-python",
   "name": "python",
   "nbconvert_exporter": "python",
   "pygments_lexer": "ipython3",
   "version": "3.8.2"
  }
 },
 "nbformat": 4,
 "nbformat_minor": 4
}
