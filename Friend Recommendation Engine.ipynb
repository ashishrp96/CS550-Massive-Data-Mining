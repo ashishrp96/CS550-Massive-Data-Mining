{
 "cells": [
  {
   "cell_type": "code",
   "execution_count": 44,
   "metadata": {},
   "outputs": [],
   "source": [
    "def user_friend_list(p):\n",
    "    parts = p.split()\n",
    "    user_id = int(parts[0])\n",
    "\n",
    "    if len(parts) == 1:\n",
    "        friend_list = []\n",
    "    else:\n",
    "        friend_list = list(map(lambda x: int(x), parts[1].split(',')))\n",
    "\n",
    "    return user_id, friend_list"
   ]
  },
  {
   "cell_type": "code",
   "execution_count": 45,
   "metadata": {},
   "outputs": [],
   "source": [
    "import itertools"
   ]
  },
  {
   "cell_type": "code",
   "execution_count": 46,
   "metadata": {},
   "outputs": [],
   "source": [
    "def friendlist_connection(fl):\n",
    "    user_id=fl[0]\n",
    "    friend_list=fl[1]\n",
    "    connections=[]\n",
    "    for f_id in friend_list:\n",
    "        key = (user_id, f_id)\n",
    "        if user_id > f_id:\n",
    "            key = (f_id, user_id)\n",
    "\n",
    "        connections.append((key, 0))\n",
    "\n",
    "    for fp in itertools.combinations(friend_list, 2):\n",
    "        f1 = fp[0]\n",
    "        f2 = fp[1]\n",
    "\n",
    "        key = (f1, f2)\n",
    "        if f1 > f2:\n",
    "            key = (f2, f1)\n",
    "        connections.append((key, 1))\n",
    "\n",
    "    return connections"
   ]
  },
  {
   "cell_type": "code",
   "execution_count": 47,
   "metadata": {},
   "outputs": [],
   "source": [
    "def mutual_friend_count_rec(ks_pair):\n",
    "    pair = ks_pair[0]\n",
    "    count = ks_pair[1]\n",
    "\n",
    "    f1 = pair[0]\n",
    "    f2 = pair[1]\n",
    "\n",
    "    rec1 = (f1, (f2, count))\n",
    "    rec2 = (f2, (f1, count))\n",
    "\n",
    "    return [rec1, rec2]"
   ]
  },
  {
   "cell_type": "code",
   "execution_count": 48,
   "metadata": {},
   "outputs": [],
   "source": [
    "def ten_recs(recs):\n",
    "\n",
    "    recs.sort(key=lambda x: (-x[1], x[0]))\n",
    "\n",
    "    return list(map(lambda x: x[0], recs))[:10]"
   ]
  },
  {
   "cell_type": "code",
   "execution_count": 49,
   "metadata": {},
   "outputs": [],
   "source": [
    "lines = sc.textFile('data/soc-LiveJournal1Adj.txt')\n",
    "\n",
    "user_friends = lines.map(user_friend_list)\n",
    "mutual_f_list =user_friends.flatMap(friendlist_connection)\n",
    "mutual_f_counts = mutual_f_list.groupByKey().filter(lambda e: 0 not in e[1]).map(lambda x: (x[0], sum(x[1])))\n",
    "\n",
    "rec_list = mutual_f_counts.flatMap(mutual_friend_count_rec).groupByKey()\n",
    "sorted_ten_recs= rec_list.map(lambda y: (y[0], ten_recs(list(y[1]))))"
   ]
  },
  {
   "cell_type": "code",
   "execution_count": 50,
   "metadata": {},
   "outputs": [],
   "source": [
    "ans_list=[924, 8941, 8942, 9019, 9020, 9021, 9022, 9990, 9992, 9993]\n",
    "ans=sorted_ten_recs.filter(lambda z: z[0] in ans_list)"
   ]
  },
  {
   "cell_type": "code",
   "execution_count": 51,
   "metadata": {},
   "outputs": [
    {
     "data": {
      "text/plain": [
       "[(9992, [9987, 9989, 35667, 9991]),\n",
       " (9022, [9019, 9020, 9021, 317, 9016, 9017, 9023]),\n",
       " (9990, [13134, 13478, 13877, 34299, 34485, 34642, 37941]),\n",
       " (8942, [8939, 8940, 8943, 8944]),\n",
       " (924, [439, 2409, 6995, 11860, 15416, 43748, 45881]),\n",
       " (9020, [9021, 9016, 9017, 9022, 317, 9023]),\n",
       " (9993, [9991, 13134, 13478, 13877, 34299, 34485, 34642, 37941]),\n",
       " (8941, [8943, 8944, 8940]),\n",
       " (9019, [9022, 317, 9023]),\n",
       " (9021, [9020, 9016, 9017, 9022, 317, 9023])]"
      ]
     },
     "execution_count": 51,
     "metadata": {},
     "output_type": "execute_result"
    }
   ],
   "source": [
    "ans.take(20)"
   ]
  }
 ],
 "metadata": {
  "kernelspec": {
   "display_name": "* Spark 3 in Python 3.8",
   "language": "python",
   "name": "pyspark3"
  },
  "language_info": {
   "codemirror_mode": {
    "name": "ipython",
    "version": 3
   },
   "file_extension": ".py",
   "mimetype": "text/x-python",
   "name": "python",
   "nbconvert_exporter": "python",
   "pygments_lexer": "ipython3",
   "version": "3.8.10"
  }
 },
 "nbformat": 4,
 "nbformat_minor": 4
}
